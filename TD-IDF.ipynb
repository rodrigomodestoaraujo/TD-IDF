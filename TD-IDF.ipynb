{
 "cells": [
  {
   "cell_type": "code",
   "execution_count": 2,
   "metadata": {},
   "outputs": [],
   "source": [
    "from sklearn.feature_extraction.text import TfidfVectorizer\n",
    "import pandas as pd\n",
    "\n",
    "sentenca_1=\"This is a good job.I will not miss it for anything\"\n",
    "sentenca_2=\"This is not good at all\" \n",
    "\n",
    "TDIDFVetor = TfidfVectorizer()\n",
    "\n",
    "#Transformando palavras em vetores\n",
    "Vetor = TDIDFVetor.fit_transform([sentenca_1, sentenca_2])\n",
    "\n",
    "#Criando Data Frame\n",
    "DataFrame = pd.DataFrame(Vetor.toarray(),columns=TDIDFVetor.get_feature_names())\n",
    "DataFrame.index = ['Sentença 1', 'Sentença 2']"
   ]
  },
  {
   "cell_type": "code",
   "execution_count": 3,
   "metadata": {},
   "outputs": [
    {
     "data": {
      "text/html": [
       "<div>\n",
       "<style scoped>\n",
       "    .dataframe tbody tr th:only-of-type {\n",
       "        vertical-align: middle;\n",
       "    }\n",
       "\n",
       "    .dataframe tbody tr th {\n",
       "        vertical-align: top;\n",
       "    }\n",
       "\n",
       "    .dataframe thead th {\n",
       "        text-align: right;\n",
       "    }\n",
       "</style>\n",
       "<table border=\"1\" class=\"dataframe\">\n",
       "  <thead>\n",
       "    <tr style=\"text-align: right;\">\n",
       "      <th></th>\n",
       "      <th>all</th>\n",
       "      <th>anything</th>\n",
       "      <th>at</th>\n",
       "      <th>for</th>\n",
       "      <th>good</th>\n",
       "      <th>is</th>\n",
       "      <th>it</th>\n",
       "      <th>job</th>\n",
       "      <th>miss</th>\n",
       "      <th>not</th>\n",
       "      <th>this</th>\n",
       "      <th>will</th>\n",
       "    </tr>\n",
       "  </thead>\n",
       "  <tbody>\n",
       "    <tr>\n",
       "      <th>Sentença 1</th>\n",
       "      <td>0.000000</td>\n",
       "      <td>0.353003</td>\n",
       "      <td>0.000000</td>\n",
       "      <td>0.353003</td>\n",
       "      <td>0.251164</td>\n",
       "      <td>0.251164</td>\n",
       "      <td>0.353003</td>\n",
       "      <td>0.353003</td>\n",
       "      <td>0.353003</td>\n",
       "      <td>0.251164</td>\n",
       "      <td>0.251164</td>\n",
       "      <td>0.353003</td>\n",
       "    </tr>\n",
       "    <tr>\n",
       "      <th>Sentença 2</th>\n",
       "      <td>0.498446</td>\n",
       "      <td>0.000000</td>\n",
       "      <td>0.498446</td>\n",
       "      <td>0.000000</td>\n",
       "      <td>0.354649</td>\n",
       "      <td>0.354649</td>\n",
       "      <td>0.000000</td>\n",
       "      <td>0.000000</td>\n",
       "      <td>0.000000</td>\n",
       "      <td>0.354649</td>\n",
       "      <td>0.354649</td>\n",
       "      <td>0.000000</td>\n",
       "    </tr>\n",
       "  </tbody>\n",
       "</table>\n",
       "</div>"
      ],
      "text/plain": [
       "                 all  anything        at       for      good        is  \\\n",
       "Sentença 1  0.000000  0.353003  0.000000  0.353003  0.251164  0.251164   \n",
       "Sentença 2  0.498446  0.000000  0.498446  0.000000  0.354649  0.354649   \n",
       "\n",
       "                  it       job      miss       not      this      will  \n",
       "Sentença 1  0.353003  0.353003  0.353003  0.251164  0.251164  0.353003  \n",
       "Sentença 2  0.000000  0.000000  0.000000  0.354649  0.354649  0.000000  "
      ]
     },
     "execution_count": 3,
     "metadata": {},
     "output_type": "execute_result"
    }
   ],
   "source": [
    "DataFrame.head()"
   ]
  }
 ],
 "metadata": {
  "kernelspec": {
   "display_name": "Python 3",
   "language": "python",
   "name": "python3"
  },
  "language_info": {
   "codemirror_mode": {
    "name": "ipython",
    "version": 3
   },
   "file_extension": ".py",
   "mimetype": "text/x-python",
   "name": "python",
   "nbconvert_exporter": "python",
   "pygments_lexer": "ipython3",
   "version": "3.7.6"
  }
 },
 "nbformat": 4,
 "nbformat_minor": 4
}
